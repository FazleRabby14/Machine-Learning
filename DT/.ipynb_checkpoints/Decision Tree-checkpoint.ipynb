{
 "cells": [
  {
   "cell_type": "markdown",
   "id": "6328fa94",
   "metadata": {},
   "source": [
    "# Setup"
   ]
  },
  {
   "cell_type": "code",
   "execution_count": 1,
   "id": "357a42e3",
   "metadata": {},
   "outputs": [],
   "source": [
    "import pandas as pd\n",
    "import seaborn as sns\n",
    "import numpy as np\n",
    "import matplotlib.pyplot as plt\n",
    "\n",
    "plt.rc('font', size=14)\n",
    "plt.rc('axes', labelsize=14, titlesize=14)\n",
    "plt.rc('legend', fontsize=14)\n",
    "plt.rc('xtick', labelsize=10)\n",
    "plt.rc('ytick', labelsize=10)"
   ]
  },
  {
   "cell_type": "markdown",
   "id": "b001b89d",
   "metadata": {},
   "source": [
    "And let's create the images/decision_trees folder (if it doesn't already exist), and define the save_fig() function which is used through this notebook to save the figures in high-res for the book:"
   ]
  },
  {
   "cell_type": "code",
   "execution_count": null,
   "id": "823625c9",
   "metadata": {},
   "outputs": [],
   "source": [
    "from pathlib import Path\n",
    "\n",
    "IMAGES_PATH = Path() / \"images\" / \"decision_trees\"\n",
    "IMAGES_PATH.mkdir(parents=True, exist_ok=True)\n",
    "\n",
    "def save_fig(fig_id, tight_layout=True, fig_extension=\"png\", resolution=300):\n",
    "    path = IMAGES_PATH / f\"{fig_id}.{fig_extension}\"\n",
    "    if tight_layout:\n",
    "        plt.tight_layout()\n",
    "    plt.savefig(path, format=fig_extension, dpi=resolution)"
   ]
  },
  {
   "cell_type": "markdown",
   "id": "0970685f",
   "metadata": {},
   "source": [
    "# Read Dataset"
   ]
  },
  {
   "cell_type": "code",
   "execution_count": null,
   "id": "7b80f22c",
   "metadata": {},
   "outputs": [],
   "source": [
    "df = pd.read_csv('iris.csv')\n",
    "print(df.shape)\n",
    "df.head()\n"
   ]
  },
  {
   "cell_type": "code",
   "execution_count": null,
   "id": "d5791d80",
   "metadata": {},
   "outputs": [],
   "source": [
    "df.columns"
   ]
  },
  {
   "cell_type": "code",
   "execution_count": null,
   "id": "86ac761f",
   "metadata": {},
   "outputs": [],
   "source": [
    "from sklearn.model_selection import train_test_split\n",
    "\n",
    "X = df.drop('variety', axis = 1)\n",
    "y = df['variety']\n",
    "\n"
   ]
  },
  {
   "cell_type": "markdown",
   "id": "9342c2b0",
   "metadata": {},
   "source": [
    "# Some Visualizations"
   ]
  },
  {
   "cell_type": "code",
   "execution_count": null,
   "id": "f8a143dc",
   "metadata": {},
   "outputs": [],
   "source": [
    "for features in X.columns:\n",
    "    plt.figure(figsize = (7,7))\n",
    "    sns.boxplot(y = X[features])"
   ]
  },
  {
   "cell_type": "code",
   "execution_count": null,
   "id": "e7847da2",
   "metadata": {},
   "outputs": [],
   "source": [
    "sns.boxplot(data = df, x = 'sepal.length', y = 'variety');"
   ]
  },
  {
   "cell_type": "code",
   "execution_count": null,
   "id": "31cca09d",
   "metadata": {},
   "outputs": [],
   "source": [
    "df.columns"
   ]
  },
  {
   "cell_type": "code",
   "execution_count": null,
   "id": "86bf1313",
   "metadata": {},
   "outputs": [],
   "source": [
    "featuresList = ['sepal.length', 'sepal.width', 'petal.length', 'petal.width']\n",
    "plt.figure(figsize = (8,8))\n",
    "subplot_no = 221\n",
    "for f in featuresList:\n",
    "    plt.subplot(subplot_no)\n",
    "    sns.boxplot(data = df, x = f, y = 'variety')\n",
    "    subplot_no = subplot_no + 1"
   ]
  },
  {
   "cell_type": "code",
   "execution_count": null,
   "id": "001adc16",
   "metadata": {},
   "outputs": [],
   "source": [
    "plt.figure(figsize = (8,8))\n",
    "subplot_no = 221\n",
    "for f in featuresList:\n",
    "    plt.subplot(subplot_no)\n",
    "    sns.violinplot(data = df, x = f, y = 'variety')\n",
    "    subplot_no = subplot_no + 1"
   ]
  },
  {
   "cell_type": "markdown",
   "id": "44e5d988",
   "metadata": {},
   "source": [
    "# Training and Testing"
   ]
  },
  {
   "cell_type": "code",
   "execution_count": null,
   "id": "f8f6f742",
   "metadata": {},
   "outputs": [],
   "source": [
    "X_train, X_test, y_train, y_test = train_test_split(X, y, test_size = 0.2, random_state = 32, stratify = y)\n",
    "X_train.shape, X_test.shape"
   ]
  },
  {
   "cell_type": "code",
   "execution_count": null,
   "id": "9c7070f2",
   "metadata": {},
   "outputs": [],
   "source": [
    "y_train.value_counts()"
   ]
  },
  {
   "cell_type": "code",
   "execution_count": null,
   "id": "20f2bf71",
   "metadata": {},
   "outputs": [],
   "source": [
    "y_test.value_counts()"
   ]
  },
  {
   "cell_type": "code",
   "execution_count": null,
   "id": "bfd73b20",
   "metadata": {},
   "outputs": [],
   "source": [
    "from sklearn.tree import DecisionTreeClassifier\n",
    "from sklearn.metrics import accuracy_score\n",
    "\n",
    "tree_clf = DecisionTreeClassifier(max_depth = 2, random_state = 44)\n",
    "tree_clf.fit(X_train, y_train)\n",
    "train_prediction = tree_clf.predict(X_train)\n",
    "test_prediction = tree_clf.predict(X_test)\n",
    "print(\"Train Accuracy: \", accuracy_score(y_train, train_prediction))\n",
    "print(\"Test Accuracy: \", accuracy_score(y_test, test_prediction))"
   ]
  },
  {
   "cell_type": "code",
   "execution_count": null,
   "id": "120f69ad",
   "metadata": {},
   "outputs": [],
   "source": [
    "from sklearn.tree import export_graphviz\n",
    "\n",
    "export_graphviz(\n",
    "        tree_clf,\n",
    "        out_file=str(IMAGES_PATH / \"iris_tree.dot\"),  \n",
    "        feature_names=X.columns,\n",
    "        class_names=y.unique(),\n",
    "        rounded=True,\n",
    "        filled=True\n",
    "    )\n",
    "\n",
    "# to visualize go to\n",
    "# https://dreampuf.github.io/GraphvizOnline/"
   ]
  },
  {
   "cell_type": "code",
   "execution_count": null,
   "id": "41c1275e",
   "metadata": {},
   "outputs": [],
   "source": [
    "def plot_learning_curves(model, X, y):\n",
    "    X_train, X_val, y_train, y_val = train_test_split(X, y, test_size=0.2, random_state=10)\n",
    "    train_errors, val_errors = [], []\n",
    "    for m in range(1, len(X_train) + 1):\n",
    "        model.fit(X_train[:m], y_train[:m])\n",
    "        y_train_predict = model.predict(X_train[:m])\n",
    "        y_val_predict = model.predict(X_val)\n",
    "        train_errors.append(accuracy_score(y_train[:m], y_train_predict))\n",
    "        val_errors.append(accuracy_score(y_val, y_val_predict))\n",
    "\n",
    "    plt.plot(train_errors, \"r-+\", linewidth=2, label=\"train\")\n",
    "    plt.plot(val_errors, \"b-\", linewidth=3, label=\"val\")\n",
    "    plt.legend(fontsize=14)   \n",
    "    plt.xlabel(\"Training set size\", fontsize=14) # not shown\n",
    "    plt.ylabel(\"Accuracy\", fontsize=14)              # not shown"
   ]
  },
  {
   "cell_type": "code",
   "execution_count": null,
   "id": "55c4e462",
   "metadata": {},
   "outputs": [],
   "source": [
    "plt.figure(figsize = (8,6))\n",
    "plot_learning_curves(tree_clf, X, y)\n",
    "save_fig(\"Learning Curve for the iris dataset\")"
   ]
  },
  {
   "cell_type": "markdown",
   "id": "12bc833d",
   "metadata": {},
   "source": [
    "# Regression"
   ]
  },
  {
   "cell_type": "code",
   "execution_count": null,
   "id": "22fc656f",
   "metadata": {},
   "outputs": [],
   "source": [
    "from sklearn.tree import DecisionTreeRegressor\n",
    "\n",
    "np.random.seed(42)\n",
    "X_quad = np.random.rand(200, 1) - 0.5  # a single random input feature\n",
    "y_quad = X_quad ** 2 + 0.025 * np.random.randn(200, 1)\n",
    "\n",
    "plt.scatter(X_quad, y_quad);"
   ]
  },
  {
   "cell_type": "code",
   "execution_count": null,
   "id": "7548ef6f",
   "metadata": {},
   "outputs": [],
   "source": [
    "tree_reg = DecisionTreeRegressor(max_depth=2, random_state=42)\n",
    "tree_reg.fit(X_quad, y_quad)"
   ]
  },
  {
   "cell_type": "code",
   "execution_count": null,
   "id": "ced82683",
   "metadata": {},
   "outputs": [],
   "source": [
    "export_graphviz(\n",
    "    tree_reg,\n",
    "    out_file=str(IMAGES_PATH / \"regression_tree.dot\"),\n",
    "    feature_names=[\"x1\"],\n",
    "    rounded=True,\n",
    "    filled=True\n",
    ")"
   ]
  },
  {
   "cell_type": "code",
   "execution_count": null,
   "id": "a42c0110",
   "metadata": {},
   "outputs": [],
   "source": []
  }
 ],
 "metadata": {
  "kernelspec": {
   "display_name": "Python 3 (ipykernel)",
   "language": "python",
   "name": "python3"
  },
  "language_info": {
   "codemirror_mode": {
    "name": "ipython",
    "version": 3
   },
   "file_extension": ".py",
   "mimetype": "text/x-python",
   "name": "python",
   "nbconvert_exporter": "python",
   "pygments_lexer": "ipython3",
   "version": "3.9.13"
  }
 },
 "nbformat": 4,
 "nbformat_minor": 5
}
